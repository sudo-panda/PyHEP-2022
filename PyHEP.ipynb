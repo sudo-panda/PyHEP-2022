{
 "cells": [
  {
   "cell_type": "markdown",
   "id": "bc54a48e",
   "metadata": {
    "slideshow": {
     "slide_type": "-"
    }
   },
   "source": [
    "# PyHEP 2022 - Using C++ From Numba, Fast and Automatic"
   ]
  },
  {
   "cell_type": "markdown",
   "id": "1895df12",
   "metadata": {
    "slideshow": {
     "slide_type": "slide"
    }
   },
   "source": [
    "## Numba\n",
    "\n",
    "The scientific community has developed various techniques to write codes easily while also accelerating their execution speeds. Numba is one such library. Numba translates Python functions into optimized machine code at runtime using the industry-standard LLVM compiler framework. Numba-compiled numerical algorithms in Python can approach the speeds of C or FORTRAN."
   ]
  },
  {
   "cell_type": "markdown",
   "id": "a2381a54",
   "metadata": {
    "slideshow": {
     "slide_type": "slide"
    }
   },
   "source": [
    "### Numba: Tradeoff between flexibility and performance\n",
    "\n",
    "Python has the flexibility of converting easily between different data types. This is because each python object is a PyObject that can store any datatype that is used in Python.\n",
    "\n",
    "```python\n",
    "f = 0.5\n",
    "```\n",
    "\n",
    "![Boxing in Python](box_pyobject.svg \"Boxing float in PyObject\")\n",
    "\n",
    "So when you store a floating point number in a variable in python. Python first converts it to a Pyobject, which is called boxing, and then the pointer to this Pyobject is what the variable stores. Whenever the native value, the floating point number in this case, is required for any calculations it needs to be unboxed from the PyObject and then used for calculations.\n",
    "\n",
    "```python\n",
    "f = f ** 2\n",
    "```\n",
    "\n",
    "![Unboxing in Python](unbox_pyobject.svg \"Unboxing float from PyObject\")\n",
    "\n",
    "These boxing and unboxing operations are deterimental to performance but provide the necessary flexibility for Python duck typing."
   ]
  },
  {
   "cell_type": "markdown",
   "id": "c06adf47",
   "metadata": {},
   "source": [
    "Numba on the other hand gets rid of this flexibility for performance. It unboxes the inputs of the function and the whole function is run on native values and not PyObjects. At the end the output is boxed so that Python can use it. For this to work numba needs to figure out the types of not only the input and output but the intermediate variables as well.\n",
    "\n",
    "![Numba working](numba.svg \"Numba only deals with native values in the LLVM IR\")\n",
    "\n",
    "The drawback to this approach is that if the types in the program that are not determinable the speed up will be minimal."
   ]
  },
  {
   "cell_type": "markdown",
   "id": "848b276f",
   "metadata": {},
   "source": [
    "Once the types are inferred Numba converts the Python code into LLVM IR. LLVM IR is a representation that is created by LLVM and used in it's compiler framework as a device independent representation which can be easily converted into assembly using LLVM tools.\n",
    "\n",
    "```c++\n",
    "define linkonce_odr dso_local void @_ZN1CC2Ei(ptr noundef nonnull align 4 dereferenceable(4) %this, i32 noundef %x) unnamed_addr #2 comdat align 2 !dbg !34 {\n",
    "entry:\n",
    "  %this.addr = alloca ptr, align 8\n",
    "  %x.addr = alloca i32, align 4\n",
    "  store ptr %this, ptr %this.addr, align 8\n",
    "  call void @llvm.dbg.declare(metadata ptr %this.addr, metadata !35, metadata !DIExpression()), !dbg !37\n",
    "  store i32 %x, ptr %x.addr, align 4\n",
    "  call void @llvm.dbg.declare(metadata ptr %x.addr, metadata !38, metadata !DIExpression()), !dbg !39\n",
    "  %this1 = load ptr, ptr %this.addr, align 8\n",
    "  %i = getelementptr inbounds %class.C, ptr %this1, i32 0, i32 0, !dbg !40\n",
    "  %0 = load i32, ptr %x.addr, align 4, !dbg !41\n",
    "  store i32 %0, ptr %i, align 4, !dbg !40\n",
    "  ret void, !dbg !42\n",
    "}\n",
    "```\n",
    "\n",
    "The snippet above is in LLVM IR. If you have seen assembly code before you must think it looks pretty similar. Since LLVM doesn't have a python package to build and execute the IR, numba has created llvmlite that allows it to do the same from python itself."
   ]
  },
  {
   "cell_type": "markdown",
   "id": "9a643305",
   "metadata": {},
   "source": [
    "### Performance benefits from Numba\n",
    "\n",
    "To measure the performance benefits from numba we use a simple function. This function calculates the `tanh` of the trace of a numpy matrix and adds it back to the whole matrix. __The only difference between the two is the Numba decorator on Line 15.__ This decorator instructs numba to convert the function into LLVM IR."
   ]
  },
  {
   "cell_type": "code",
   "execution_count": 1,
   "id": "24d6cafd",
   "metadata": {},
   "outputs": [],
   "source": [
    "from numba import jit\n",
    "import numpy as np\n",
    "import time\n",
    "\n",
    "################ Pure Python ###############\n",
    "# Function is not compiled and runs in byte code\n",
    "def python_trace(a):\n",
    "    trace = 0.0\n",
    "    for i in range(a.shape[0]):\n",
    "        trace += np.tanh(a[i, i])\n",
    "    return a + trace\n",
    "\n",
    "################ Numba ###############\n",
    "# Function is compiled and runs in machine code\n",
    "@jit(nopython=True) # <--------------- Numba decorator\n",
    "def numba_trace(a):\n",
    "    trace = 0.0\n",
    "    for i in range(a.shape[0]):\n",
    "        trace += np.tanh(a[i, i])\n",
    "    return a + trace"
   ]
  },
  {
   "cell_type": "code",
   "execution_count": 2,
   "id": "2d2e4932",
   "metadata": {},
   "outputs": [],
   "source": [
    "def measure_execution(func, args):\n",
    "    start = time.perf_counter()\n",
    "    results = func(*args)\n",
    "    end = time.perf_counter()\n",
    "    elapsed = end - start\n",
    "    return elapsed, results\n",
    "\n",
    "x = np.arange(100).reshape(10, 10)\n",
    "\n",
    "numba_warmup, _ = measure_execution(numba_trace, (x,))\n",
    "python_elapsed, _ = measure_execution(python_trace, (x,))\n",
    "numba_elapsed, _ = measure_execution(numba_trace, (x,))"
   ]
  },
  {
   "cell_type": "code",
   "execution_count": 3,
   "id": "79ca6a82",
   "metadata": {},
   "outputs": [
    {
     "name": "stdout",
     "output_type": "stream",
     "text": [
      "Numba Function : Warmup  = 0.3749311s\n",
      "Python Function: Elapsed = 0.0000542s\n",
      "Numba Function : Elapsed = 0.0000053s\n"
     ]
    }
   ],
   "source": [
    "print(f\"Numba Function : Warmup  = {numba_warmup:.7f}s\")\n",
    "print(f\"Python Function: Elapsed = {python_elapsed:.7f}s\")\n",
    "print(f\"Numba Function : Elapsed = {numba_elapsed:.7f}s\")"
   ]
  },
  {
   "cell_type": "markdown",
   "id": "ab6988f6",
   "metadata": {},
   "source": [
    "These results show that in the first run numba takes a lot more time than a conventional python function. This is because it takes time to load necessary modules and compile the function into LLVM IR whereas the conventional python function execution does have to go through these extra steps. After the compilation is done numba can provide a speedup of one or two orders of magnitude depending on the program itself. Thus numba is used when the same function has to be run a lot of times."
   ]
  },
  {
   "cell_type": "markdown",
   "id": "c18b788a",
   "metadata": {},
   "source": [
    "## Cppyy\n",
    "\n",
    "Cppyy is an automatic, run-time, Python-C++ bindings generator, for calling C++ from Python and Python from C++. It is the base for PyROOT which is the Python frontend for ROOT, which is the data analysis framework used for Physics analysis. ROOT has a C++ interpreter Cling built into it which also provides Cppyy the necessary information for it to use C++ features.\n",
    "\n",
    "Cppyy as PyROOT has been employed by many experiments to use their own C++ data models in Python. "
   ]
  },
  {
   "cell_type": "markdown",
   "id": "57f33d96",
   "metadata": {},
   "source": [
    "### Cppyy: Why should you care about C++?\n",
    "\n",
    "__Most of the codebase used by scientific community is in C++.__ Converting these to a language such as Python will require a huge workforce and would also suffer performance hits thus it would not be a feasible option. Using cppyy, the C++ data models, that the respective HEP experiments have, are readily available to the user while also providing the ease of protoptyping that Python allows.\n",
    "\n",
    "PyROOT has been a major boon for people who want to use Python. But previously numba did not support PyROOT objects as it did not understand them. Due to the cppyy extension numba can now interact with PyROOT and thus __anyone using PyROOT can now use numba to their advantage by using `cppyy.numba_ext`.__"
   ]
  },
  {
   "cell_type": "markdown",
   "id": "70a137df",
   "metadata": {},
   "source": [
    "### Benefits of using Cppyy with Numba?\n",
    "\n",
    "1) __Numba makes loops fast:__ When using cppyy (PyROOT) with python, the loops in python are slower as compared to languages such as C/C++. Numba alleviates this problem and can make it as fast as C without much code instrumentation.\n",
    "\n",
    "2) __Code completely in python:__ This makes debugging easier. To debug numba instrumented code you can either comment out the instrumentation line and debug the code as you would do in Python or use gdb using `numba.gdb`. Numba also has a variety of flags that can be turned on to see tracebacks and the intermediate steps taken by numba. _This is easier than to debug a code that is setup in Python and uses RDF for hotspots._\n",
    "\n",
    "3) __No conversions in the IR:__ Cppyy can be converted to LLVM IR cleanly, that is no boxing and unboxing is required, so we do not spend any time in type conversions and gain the maximum amount of speedup possible.\n",
    "\n",
    "4) __Two worlds closer together:__ You can switch easily between C++ and Python as and when you want."
   ]
  },
  {
   "cell_type": "markdown",
   "id": "6cae47c3",
   "metadata": {},
   "source": [
    "### Performance\n",
    "\n",
    "Similar to the tanh example used to compare Numba vs Python we use the `std::tanh` from C++ to compare the performance against numba. We just replace the `np.tanh` function and no extra changes are done."
   ]
  },
  {
   "cell_type": "code",
   "execution_count": 4,
   "id": "35a946bb",
   "metadata": {},
   "outputs": [],
   "source": [
    "import cppyy\n",
    "import cppyy.numba_ext\n",
    "\n",
    "################ Cppyy ###############\n",
    "# Function is compiled and runs in machine code\n",
    "@jit(nopython=True)\n",
    "def cppyy_numba_trace(a):\n",
    "    trace = 0.0\n",
    "    for i in range(a.shape[0]):\n",
    "        trace += cppyy.gbl.tanh(a[i, i]) # <---------------- Replaces np.tanh\n",
    "    return a + trace"
   ]
  },
  {
   "cell_type": "code",
   "execution_count": 5,
   "id": "8feed483",
   "metadata": {},
   "outputs": [
    {
     "name": "stdout",
     "output_type": "stream",
     "text": [
      "Numba Function : Elapsed (with comp)  = 0.3749311s\n",
      "Cppyy Function : Elapsed (with comp)  = 0.1676025s\n",
      "\n",
      "Python Function: Elapsed (2nd run)    = 0.0000542s\n",
      "Numba Function : Elapsed (after comp) = 0.0000053s\n",
      "Cppyy Function : Elapsed (after comp) = 0.0000072s\n"
     ]
    }
   ],
   "source": [
    "cppyy_warmup, _ = measure_execution(cppyy_numba_trace, (x,))\n",
    "cppyy_elapsed, _ = measure_execution(cppyy_numba_trace, (x,))\n",
    "\n",
    "print(f\"Numba Function : Elapsed (with comp)  = {numba_warmup:.7f}s\")\n",
    "print(f\"Cppyy Function : Elapsed (with comp)  = {cppyy_warmup:.7f}s\")\n",
    "print()\n",
    "print(f\"Python Function: Elapsed (2nd run)    = {python_elapsed:.7f}s\")\n",
    "print(f\"Numba Function : Elapsed (after comp) = {numba_elapsed:.7f}s\")\n",
    "print(f\"Cppyy Function : Elapsed (after comp) = {cppyy_elapsed:.7f}s\")"
   ]
  },
  {
   "cell_type": "markdown",
   "id": "cdfcbc5e",
   "metadata": {},
   "source": [
    "The result show that overhead for using cppyy in a numba function is minimal as the time elapsed is almost similar to the numba only function."
   ]
  },
  {
   "cell_type": "markdown",
   "id": "956af887",
   "metadata": {},
   "source": [
    "## Features"
   ]
  },
  {
   "cell_type": "markdown",
   "id": "ce1c28ba",
   "metadata": {},
   "source": [
    "### 1) Plug and Play\n",
    "\n",
    "To use the extension you just need to import `cppyy.numba_ext` and then you can use C++ functions in numba directly.\n",
    "\n",
    "In the example shown below `sqrt` is a C++ function that can be used direcly inside the numba jitted function with the help of the extension."
   ]
  },
  {
   "cell_type": "code",
   "execution_count": 6,
   "id": "d2960025",
   "metadata": {},
   "outputs": [
    {
     "name": "stdout",
     "output_type": "stream",
     "text": [
      "Sqrt of 4:  2.0\n",
      "Sqrt of Pi:  1.7724538509055159\n"
     ]
    }
   ],
   "source": [
    "import numba\n",
    "import cppyy\n",
    "import cppyy.numba_ext   # <------- Imports the necessary information for numba to work with cppyy\n",
    "import math\n",
    "\n",
    "@numba.jit(nopython=True)\n",
    "def cpp_sqrt(x):\n",
    "    return cppyy.gbl.sqrt(x) # <------------ Direct use, no extra setup required\n",
    "\n",
    "print(\"Sqrt of 4: \", cpp_sqrt(4.0))\n",
    "print(\"Sqrt of Pi: \", cpp_sqrt(math.pi))"
   ]
  },
  {
   "cell_type": "markdown",
   "id": "2dc10c59",
   "metadata": {},
   "source": [
    "### 3) Template instantiation\n",
    "\n",
    "Cppyy supports template instantiation which gives you access to an important feature set in C++ that is used abundently in lot of places. This extension extends that support to numba too so any templated C++ function can be used in numba. Below we have a templated square function and depending on the type of the matrix the extension instantiates the required template argument."
   ]
  },
  {
   "cell_type": "code",
   "execution_count": 7,
   "id": "d060dcde",
   "metadata": {},
   "outputs": [
    {
     "name": "stdout",
     "output_type": "stream",
     "text": [
      "Float array:  [0. 1. 2. 3. 4. 5. 6. 7. 8. 9.]\n",
      "Sum of squares:  285.0\n",
      "\n",
      "Integer array:  [0 1 2 3 4 5 6 7 8 9]\n",
      "Sum of squares:  285\n"
     ]
    }
   ],
   "source": [
    "import cppyy\n",
    "import cppyy.numba_ext\n",
    "import numba\n",
    "import numpy as np\n",
    "\n",
    "cppyy.cppdef(\"\"\"\n",
    "template<typename T>\n",
    "T square(T t) { return t*t; }\n",
    "\"\"\")\n",
    "\n",
    "@numba.jit(nopython=True)\n",
    "def tsa(a):\n",
    "    total = type(a[0])(0)\n",
    "    for i in range(len(a)):\n",
    "        total += cppyy.gbl.square(a[i])\n",
    "    return total\n",
    "\n",
    "a = np.array(range(10), dtype=np.float32)\n",
    "print(\"Float array: \", a)\n",
    "print(\"Sum of squares: \", tsa(a))\n",
    "print()\n",
    "a = np.array(range(10), dtype=np.int32)\n",
    "print(\"Integer array: \", a)\n",
    "print(\"Sum of squares: \", tsa(a))"
   ]
  },
  {
   "cell_type": "markdown",
   "id": "ae6d0080",
   "metadata": {},
   "source": [
    "### 2) Overload selection"
   ]
  },
  {
   "cell_type": "code",
   "execution_count": 8,
   "id": "b2ea4460",
   "metadata": {},
   "outputs": [
    {
     "name": "stdout",
     "output_type": "stream",
     "text": [
      "Array:  [0. 1. 2. 3. 4. 5. 6. 7. 8. 9.]\n",
      "Overload selection output:  135.0\n",
      "Array:  [0 1 2 3 4 5 6 7 8 9]\n",
      "Overload selection output:  90\n"
     ]
    }
   ],
   "source": [
    "cppyy.cppdef(\"\"\"\n",
    "int mul(int x) { return x * 2; }\n",
    "float mul(float x) { return x * 3; }\n",
    "\"\"\")\n",
    "\n",
    "@numba.jit(nopython=True)\n",
    "def oversel(a):\n",
    "    total = type(a[0])(0)\n",
    "    for i in range(len(a)):\n",
    "        total += cppyy.gbl.mul(a[i])\n",
    "    return total\n",
    "\n",
    "a = np.array(range(10), dtype=np.float32)\n",
    "print(\"Array: \", a)\n",
    "print(\"Overload selection output: \", oversel(a))\n",
    "\n",
    "a = np.array(range(10), dtype=np.int32)\n",
    "print(\"Array: \", a)\n",
    "print(\"Overload selection output: \", oversel(a))"
   ]
  },
  {
   "cell_type": "markdown",
   "id": "f223a2d1",
   "metadata": {},
   "source": [
    "## Demos"
   ]
  },
  {
   "cell_type": "markdown",
   "id": "8aa4697e",
   "metadata": {},
   "source": [
    "### 1) Numba physics example\n",
    "\n",
    "Taken from:\n",
    "https://github.com/numba/numba-examples/blob/master/examples/physics/lennard_jones/numba_scalar_impl.py\n",
    "\n",
    "$$V_{LJ}(r) = 4\\varepsilon[(\\frac{\\sigma}{r})^{12} - (\\frac{\\sigma}{r})^6]$$\n",
    "\n",
    "$$ \\varepsilon = 1, \\sigma = 1$$"
   ]
  },
  {
   "cell_type": "code",
   "execution_count": 9,
   "id": "d0d3bd82",
   "metadata": {},
   "outputs": [
    {
     "name": "stdout",
     "output_type": "stream",
     "text": [
      "Total lennard jones potential = -0.5780277345740283\n"
     ]
    }
   ],
   "source": [
    "import numba\n",
    "import cppyy\n",
    "import cppyy.numba_ext\n",
    "\n",
    "cppyy.cppdef(\"\"\"\n",
    "#include <vector>\n",
    "\n",
    "struct Atom {\n",
    "    float x;\n",
    "    float y;\n",
    "    float z;\n",
    "};\n",
    "\n",
    "std::vector<Atom> atoms = {{1, 2, 3}, {2, 3, 4}, {3, 4, 5}, {4, 5, 6}, {5, 6, 7}};\n",
    "\"\"\")\n",
    "\n",
    "@numba.njit\n",
    "def lj_numba_scalar(r):\n",
    "    sr6 = (1./r)**6\n",
    "    pot = 4.*(sr6*sr6 - sr6)\n",
    "    return pot\n",
    "\n",
    "\n",
    "@numba.njit\n",
    "def distance_numba_scalar(atom1, atom2):\n",
    "    dx = atom2.x - atom1.x\n",
    "    dy = atom2.y - atom1.y\n",
    "    dz = atom2.z - atom1.z\n",
    "\n",
    "    r = (dx * dx + dy * dy + dz * dz) ** 0.5\n",
    "\n",
    "    return r\n",
    "\n",
    "\n",
    "\n",
    "def potential_numba_scalar(cluster):\n",
    "    energy = 0.0\n",
    "    for i in range(cluster.size() - 1):\n",
    "        for j in range(i + 1, cluster.size()):\n",
    "            r = distance_numba_scalar(cluster[i], cluster[j])\n",
    "            e = lj_numba_scalar(r)\n",
    "            energy += e\n",
    "            \n",
    "    return energy\n",
    "\n",
    "print(\"Total lennard jones potential =\", potential_numba_scalar(cppyy.gbl.atoms))"
   ]
  },
  {
   "cell_type": "markdown",
   "id": "cbeb29d3",
   "metadata": {},
   "source": [
    "### 2) Using the extension with PyROOT\n",
    "\n",
    "To use the extension with PyROOT we just need to import `cppyy.numba_ext`.\n",
    "\n",
    "In the example we use the TLorentzVector class from ROOT. TLorentzVector is a root class with four properties:\n",
    "`Px`, `Py`, `Pz` and `E`\n",
    "\n",
    "It also provides the transverse momentum `Pt` to the user which can be calculated by:\n",
    "\n",
    "$$Pt = \\sqrt{Px^2+Py^2}$$"
   ]
  },
  {
   "cell_type": "code",
   "execution_count": 10,
   "id": "5c957054",
   "metadata": {},
   "outputs": [
    {
     "name": "stdout",
     "output_type": "stream",
     "text": [
      "Welcome to JupyROOT 6.27/01\n",
      "\n"
     ]
    }
   ],
   "source": [
    "########################################## Setup Code ###############################\n",
    "import numba\n",
    "import math\n",
    "import ROOT\n",
    "import cppyy.numba_ext\n",
    "import time\n",
    "\n",
    "ROOT.gInterpreter.Declare(\"\"\"\n",
    "std::vector<TLorentzVector> vec_lv;\n",
    "\n",
    "const int no_of_samples = 1000;\n",
    "\n",
    "void fill() {\n",
    "  vec_lv.reserve(no_of_samples);\n",
    "  TRandom3 R(111);\n",
    "  \n",
    "  for (int i = 0; i < no_of_samples; ++i) {\n",
    "    double Px = R.Gaus(0,10);\n",
    "    double Py = R.Gaus(0,10);\n",
    "    double Pz = R.Gaus(0,10);\n",
    "    double E  = R.Gaus(100,10);\n",
    "    vec_lv.push_back(TLorentzVector(Px, Py, Pz, E));\n",
    "  }\n",
    "}\n",
    "\"\"\")\n",
    "ROOT.gInterpreter.ProcessLine(\"\"\"\n",
    "fill();\n",
    "\"\"\")\n",
    "\n",
    "print()"
   ]
  },
  {
   "cell_type": "markdown",
   "id": "8940e41f",
   "metadata": {},
   "source": [
    "In this example we calculate the same using Python and show how we can speed up the calculation using numba.\n",
    "The `calc_pt` function uses pure python to calculate `Pt` whereas the `numba_calc_pt` uses numba to do the same. As before the only __difference between the two is the numba decorator__ so you do not need to change anything."
   ]
  },
  {
   "cell_type": "code",
   "execution_count": 11,
   "id": "95d7c585",
   "metadata": {},
   "outputs": [],
   "source": [
    "def calc_pt(lv):\n",
    "    return math.sqrt(lv.Px() ** 2 + lv.Py() ** 2)\n",
    "\n",
    "def calc_pt_vec(vec_lv):\n",
    "    pt = []\n",
    "    for i in range(vec_lv.size()):\n",
    "        pt.append((calc_pt(vec_lv[i]), vec_lv[i].Pt()))\n",
    "    return pt\n",
    "\n",
    "\n",
    "@numba.njit\n",
    "def numba_calc_pt(lv):\n",
    "    return math.sqrt(lv.Px() ** 2 + lv.Py() ** 2)\n",
    "\n",
    "def numba_calc_pt_vec(vec_lv):\n",
    "    pt = []\n",
    "    for i in range(vec_lv.size()):\n",
    "        pt.append((numba_calc_pt(vec_lv[i]), vec_lv[i].Pt()))\n",
    "    return pt\n"
   ]
  },
  {
   "cell_type": "code",
   "execution_count": 12,
   "id": "9b05c52b",
   "metadata": {
    "scrolled": true
   },
   "outputs": [
    {
     "name": "stdout",
     "output_type": "stream",
     "text": [
      "Numba'd    : Warmup  = 0.04911s\n",
      "Pure Python: Elapsed = 0.00992s\n",
      "Numba'd    : Elapsed = 0.00409s\n",
      "Speedup              = 2.42418x\n",
      "\n",
      "Calc pT \tActual pT\n",
      "---------------------------\n",
      "8.95222 \t8.95222\n",
      "4.11973 \t4.11973\n",
      "25.97929 \t25.97929\n",
      "\n",
      "All values for pT match\n"
     ]
    }
   ],
   "source": [
    "numba_warmup, _ = measure_execution(numba_calc_pt, (ROOT.vec_lv[0], ))\n",
    "python_elapsed, _ = measure_execution(calc_pt_vec, (ROOT.vec_lv, ))\n",
    "numba_elapsed, pt = measure_execution(numba_calc_pt_vec, (ROOT.vec_lv, ))\n",
    "\n",
    "print(f\"Numba'd    : Warmup  = {numba_warmup  :.5f}s\")\n",
    "print(f\"Pure Python: Elapsed = {python_elapsed:.5f}s\")\n",
    "print(f\"Numba'd    : Elapsed = {numba_elapsed :.5f}s\")\n",
    "\n",
    "print(f\"Speedup              = {python_elapsed / numba_elapsed:.5f}x\")\n",
    "\n",
    "no_of_samples = 3\n",
    "print(\"\\nCalc pT \\tActual pT\")\n",
    "print(\"---------------------------\")\n",
    "print(*(f\"{x:2.5f} \\t{y:2.5f}\" for x,y in pt[:no_of_samples]), sep=\"\\n\")\n",
    "\n",
    "if False in tuple(x==y for x, y in pt):\n",
    "    print(\"\\nSome values do not match\")\n",
    "else:\n",
    "    print(\"\\nAll values for pT match\")"
   ]
  },
  {
   "cell_type": "markdown",
   "id": "511d6bc6",
   "metadata": {},
   "source": [
    "### 3) RDF"
   ]
  },
  {
   "cell_type": "markdown",
   "id": "4d3cd90e",
   "metadata": {},
   "source": [
    "You can also use it inside RDF through `ROOT.Numba.Declare`. Underneath is a simple example where it is used to calculate the power function."
   ]
  },
  {
   "cell_type": "code",
   "execution_count": 13,
   "id": "291a99c7",
   "metadata": {},
   "outputs": [
    {
     "name": "stdout",
     "output_type": "stream",
     "text": [
      "\n",
      "pypownd([0. 1. 2. 3.], 3) = [ 0.  1.  8. 27.]\n",
      "2^3 = 8\n",
      "4^5 = 1024\n"
     ]
    }
   ],
   "source": [
    "import numba\n",
    "import ROOT\n",
    "import cppyy.numba_ext\n",
    "\n",
    "ROOT.gInterpreter.Declare(\"\"\"\n",
    "double cpppow(double x, int y) { return pow(x, y); }\n",
    "\"\"\")\n",
    "\n",
    "@ROOT.Numba.Declare(['double', 'int'], 'double')\n",
    "def pypownd(x, y):\n",
    "    return ROOT.cpppow(x, y) # <--------- Numba.Declare supports ROOT python due to the numba extension\n",
    "\n",
    "\n",
    "ROOT.gInterpreter.ProcessLine(\"\"\"\n",
    "cout << \"2^3 = \" << Numba::pypownd(2, 3) << endl\n",
    "     << \"4^5 = \" << Numba::pypownd(4, 5) << endl;\"\"\")\n",
    "print()\n",
    "\n",
    "# Or we can use the callable as well within a RDataFrame workflow.\n",
    "data = ROOT.RDataFrame(4).Define('x', '(float)rdfentry_')\\\n",
    "                         .Define('x_pow3', 'Numba::pypownd(x, 3)')\\\n",
    "                         .AsNumpy()\n",
    " \n",
    "print('pypownd({}, 3) = {}'.format(data['x'], data['x_pow3']))"
   ]
  },
  {
   "cell_type": "markdown",
   "id": "e6439fb3",
   "metadata": {},
   "source": [
    "## Future work\n",
    "\n",
    "1) __Complete C++ feature support__:\n",
    "  - Returning C++ objects from functions\n",
    "  - Memory management\n",
    "  - Constructor support\n",
    "  - Virtual inheritance\n",
    "\n",
    "2) __Inlining__:\n",
    "\n",
    "For the code:\n",
    "```python\n",
    "def numba_calc_pt(lv):\n",
    "    return math.sqrt(lv.Px() ** 2 + lv.Py() ** 2)\n",
    "```\n",
    "\n",
    "The equivalent LLVM IR is:\n",
    "```c++\n",
    "define i32 @_ZN8__main__13numba_calc_ptB2v1B38c8tJTIcFHzwl2ILiXkcBV0KBSgP9CGZpAgA_3dE28CppClass_28TLorentzVector_29(double* noalias nocapture %retptr, { i8*, i32, i8* }** noalias nocapture readnone %excinfo, { i32, i32, i32, i32, i32, i32 }* %arg.lv) local_unnamed_addr {\n",
    "entry:\n",
    "  %.5 = bitcast { i32, i32, i32, i32, i32, i32 }* %arg.lv to i8*\n",
    "  %.614 = load double (i8*)*, double (i8*)** bitcast (i8** @numba.dynamic.globals.7fbfd71f7080 to double (i8*)**), align 8\n",
    "  %.8 = tail call double %.614(i8* %.5)\n",
    "  %.147.i = fmul double %.8, %.8\n",
    "  %.3615 = load double (i8*)*, double (i8*)** bitcast (i8** @numba.dynamic.globals.7fbfd6d7b080 to double (i8*)**), align 8\n",
    "  %.38 = tail call double %.3615(i8* %.5)\n",
    "  %.147.i9 = fmul double %.38, %.38\n",
    "  %.63 = fadd double %.147.i, %.147.i9\n",
    "  store double %.63, double* %retptr, align 8\n",
    "  ret i32 0\n",
    "}\n",
    "```\n",
    "For best performance the line ```%.3615 = load double (i8*)*, double (i8*)** bitcast (i8** @numba.dynamic.globals.7fbfd6d7b080 to double (i8*)**), align 8``` should be replaced by memory access and that will require rebasing llvmlite on top of Cling. This will allow symbols of C++ that Cling parsed are available at LLVM IR level and so we can replace the function call easily.\n",
    "\n",
    "3) __GPU support__\n",
    "\n",
    "4) __Automatic parallelization__: We want to support automatic parallelization using OpenMP\n"
   ]
  },
  {
   "cell_type": "markdown",
   "id": "b453efb3",
   "metadata": {},
   "source": [
    "# Conclusion\n",
    "\n",
    "This extension:\n",
    "\n",
    "#### 1) __Is easy to use__: Just import `cppyy.numba_ext`.\n",
    "\n",
    "#### 2) __Enables you to use PyROOT with Numba.__\n",
    "\n",
    "#### 3) __Makes code debugging easy by using a full Python__"
   ]
  },
  {
   "cell_type": "markdown",
   "id": "64a93cd5",
   "metadata": {},
   "source": [
    "$$$$\n",
    "\n",
    "----------------------------------------\n",
    "# $$Thankyou$$\n",
    "----------------------------------------\n",
    "\n",
    "$$$$\n",
    "$$$$\n",
    "$$$$\n",
    "$$$$\n",
    "$$$$\n",
    "$$$$\n",
    "$$$$\n",
    "$$$$\n",
    "$$$$\n",
    "$$$$\n",
    "$$$$\n",
    "$$$$\n",
    "$$$$\n",
    "$$$$\n",
    "$$$$\n",
    "$$$$\n",
    "$$$$\n",
    "$$$$\n",
    "$$$$\n",
    "$$$$\n",
    "$$$$\n",
    "$$$$\n",
    "$$$$\n",
    "$$$$\n",
    "$$$$\n",
    "$$$$\n",
    "$$$$\n",
    "$$$$\n",
    "$$$$\n",
    "$$$$\n",
    "$$$$\n",
    "$$$$\n",
    "$$$$\n",
    "$$$$\n",
    "$$$$\n",
    "$$$$\n",
    "$$$$\n",
    "$$$$\n",
    "$$$$\n",
    "$$$$\n",
    "$$$$\n",
    "\n",
    "$$Extra Examples$$"
   ]
  },
  {
   "cell_type": "code",
   "execution_count": null,
   "id": "0157bf14",
   "metadata": {},
   "outputs": [],
   "source": [
    "import numba\n",
    "import cppyy\n",
    "import numpy as np\n",
    "\n",
    "cppyy.cppdef(\"\"\"\n",
    "float arr1[] = {0.1, 0.2, 0.3, 0.4, 0.5};\n",
    "\"\"\")\n",
    "\n",
    "@numba.njit\n",
    "def square_arr(arr):\n",
    "    ret = []\n",
    "    for i in range(5):\n",
    "        x = arr[i] ** 2\n",
    "        ret.append(x)\n",
    "            \n",
    "    return np.array(ret)\n",
    "\n",
    "print(square_arr(cppyy.gbl.arr1))"
   ]
  },
  {
   "cell_type": "code",
   "execution_count": null,
   "id": "9bf0ea93",
   "metadata": {},
   "outputs": [],
   "source": [
    "import cppyy\n",
    "import numba\n",
    "import numpy as np\n",
    "\n",
    "cppyy.cppdef(\"\"\"\\\n",
    "class MyData {\n",
    "public:\n",
    "    MyData(int i, int j) : fField1(i), fField2(j) {}\n",
    "\n",
    "public:\n",
    "    int get_field1() { return fField1; }\n",
    "    int get_field2() { return fField2; }\n",
    "\n",
    "    MyData copy() { return *this; }\n",
    "\n",
    "public:\n",
    "    int fField1;\n",
    "    int fField2;\n",
    "};\"\"\")\n",
    "\n",
    "@numba.jit(nopython=True)\n",
    "def tsdf(a, d):\n",
    "    total = type(a[0])(0)\n",
    "    for i in range(len(a)):\n",
    "        total += a[i] + d.fField1 + d.fField2\n",
    "    return total\n",
    "\n",
    "d = cppyy.gbl.MyData(5, 6)\n",
    "a = np.array(range(10), dtype=np.int32)\n",
    "print(tsdf(a, d))\n",
    "\n",
    "# example of method calls\n",
    "@numba.jit(nopython=True)\n",
    "def tsdm(a, d):\n",
    "    total = type(a[0])(0)\n",
    "    for i in range(len(a)):\n",
    "        total += a[i] +  d.get_field1() + d.get_field2()\n",
    "    return total\n",
    "\n",
    "print(tsdm(a, d))\n",
    "\n",
    "# example of object return by-value\n",
    "@numba.jit(nopython=True)\n",
    "def tsdcm(a, d):\n",
    "    total = type(a[0])(0)\n",
    "    for i in range(len(a)):\n",
    "        total += a[i] + d.copy().fField1 + d.get_field2()\n",
    "    return total\n",
    "\n",
    "print(tsdcm(a, d))\n",
    "\n"
   ]
  },
  {
   "cell_type": "code",
   "execution_count": null,
   "id": "edd29014",
   "metadata": {},
   "outputs": [],
   "source": [
    "import numba\n",
    "import cppyy\n",
    "\n",
    "cppyy.cppdef(\"\"\"\n",
    "float arr2[] = {0.1, 0.2, 0.3, 0.4, 0.5};\n",
    "\"\"\")\n",
    "\n",
    "@numba.njit\n",
    "def sum_arr(arr):\n",
    "    energy = 0.0\n",
    "    for i in range(5):\n",
    "        energy += arr[i]\n",
    "            \n",
    "    return energy\n",
    "\n",
    "print(sum_arr(cppyy.gbl.arr2))"
   ]
  }
 ],
 "metadata": {
  "kernelspec": {
   "display_name": "Python 3 (ipykernel)",
   "language": "python",
   "name": "python3"
  },
  "language_info": {
   "codemirror_mode": {
    "name": "ipython",
    "version": 3
   },
   "file_extension": ".py",
   "mimetype": "text/x-python",
   "name": "python",
   "nbconvert_exporter": "python",
   "pygments_lexer": "ipython3",
   "version": "3.10.4"
  },
  "vscode": {
   "interpreter": {
    "hash": "53e3c2a91918f2ff9cf0a9e46e22bb170cac5ed7b9f5a8a6dee561283c9d3c84"
   }
  }
 },
 "nbformat": 4,
 "nbformat_minor": 5
}
